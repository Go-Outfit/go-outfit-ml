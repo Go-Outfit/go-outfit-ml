{
 "cells": [
  {
   "cell_type": "code",
   "execution_count": 4,
   "metadata": {},
   "outputs": [],
   "source": [
    "import os, random\n",
    "import matplotlib.pyplot as plt\n",
    "import tensorflow as tf"
   ]
  },
  {
   "cell_type": "code",
   "execution_count": 5,
   "metadata": {},
   "outputs": [],
   "source": [
    "#Define dir path\n",
    "base_dir = os.getcwd()\n",
    "jacket_dir = os.path.join(base_dir,'Jacket')\n",
    "laki_dir = os.path.join(base_dir,'Laki-laki')\n",
    "cewek_dir = os.path.join(base_dir,'Perempuan')\n",
    "sneakers_dir = os.path.join(base_dir,'Sneakers')"
   ]
  },
  {
   "cell_type": "code",
   "execution_count": 9,
   "metadata": {},
   "outputs": [],
   "source": [
    "def contain_item(source_dir):\n",
    "    for rootdir, dirs, files in os.walk(source_dir):\n",
    "      for subdir in dirs:\n",
    "        folder = os.path.join(rootdir, subdir)\n",
    "        print(\"[-]\",os.path.join(rootdir, subdir))"
   ]
  },
  {
   "cell_type": "code",
   "execution_count": 6,
   "metadata": {},
   "outputs": [],
   "source": [
    "#Fungsi shuffle foto. dibenerin geri\n",
    "def recommend_output(path):\n",
    "    contain_path = os.listdir(path)\n",
    "    result_image = []\n",
    "    for x in range(6):\n",
    "        img = random.choice(contain_path)\n",
    "        shf_img = os.path.join(path,img)\n",
    "        result_image.append(shf_img)\n",
    "    return result_image"
   ]
  },
  {
   "cell_type": "code",
   "execution_count": null,
   "metadata": {},
   "outputs": [],
   "source": [
    "recommend_output(laki_dir,'Kaos_Cowok')"
   ]
  },
  {
   "cell_type": "code",
   "execution_count": 26,
   "metadata": {},
   "outputs": [],
   "source": [
    "#Create recommendation system\n",
    "def recommend_user(gender,cuaca,situasi,style_fashion):\n",
    "    data = {\n",
    "        \"upperwear\": \"\",\n",
    "        \"bottomwear\" : \"\",\n",
    "        \"footwear\" : \"\"\n",
    "    }\n",
    "    if gender == \"Laki-laki\" and situasi == \"Formal\" and style_fashion == \"Formal\" :\n",
    "        print(\"Here's your upperwear recommendation! : \")\n",
    "        upperwear = recommend_output(laki_dir,'Jas_cowok')\n",
    "        print(\"Here's your bottomwear recommendation! : \")\n",
    "        bottomwear = recommend_output(laki_dir,'Celana_panjang_cowok')\n",
    "        print(\"Here's your footwear recommendation! : \")\n",
    "        footwear = recommend_output(laki_dir,'Pantofel')\n",
    "        data[\"upperwear\"] = upperwear\n",
    "        data[\"bottomwear\"] = bottomwear\n",
    "        data[\"footwear\"] = footwear\n",
    "        return data \n",
    "    elif gender == \"Perempuan\" and situasi == \"Formal\" and style_fashion == \"Formal\" : \n",
    "        print(\"Here's your upperwear recommendation! : \")\n",
    "        uw = []\n",
    "        val= recommend_output(cewek_dir,'Jas_Cewek')\n",
    "        uw.append(val)\n",
    "        val = recommend_output(cewek_dir,'Dress')\n",
    "        uw.append(val)\n",
    "        print(\"Here's your bottomwear recommendation! : \")\n",
    "        bw = []\n",
    "        val = recommend_output(cewek_dir,'Rok_formal')\n",
    "        bw.append(val)\n",
    "        val = recommend_output(cewek_dir,'Celana_panjang_cewek')\n",
    "        bw.append(val)\n",
    "        print(\"Here's your footwear recommendation! : \")\n",
    "        fw = []\n",
    "        val = recommend_output(cewek_dir,'Pantofel_cewek')\n",
    "        fw.append(val)\n",
    "        val = recommend_output(cewek_dir,'Heels')\n",
    "        fw.append(val)\n",
    "        data[\"upperwear\"] = uw\n",
    "        data[\"bottomwear\"] = bw\n",
    "        data[\"footwear\"] = fw\n",
    "        return data \n",
    "    elif gender == \"Laki-laki\" and situasi == \"Nonformal\" and style_fashion != \"Formal\":\n",
    "        print(\"Here's your upperwear recommendation! : \")\n",
    "        uw_l = []\n",
    "        val = recommend_output(base_dir,'Jacket')\n",
    "        uw_l.append(val)\n",
    "        val = recommend_output(laki_dir,'Kaos_Laki')\n",
    "        uw_l.append(val)\n",
    "        print(\"Here's your bottomwear recommendation! : \")\n",
    "        bw_l = []\n",
    "        val = recommend_output(laki_dir,'Celana_panjang_cowok')\n",
    "        bw_l.append(val)\n",
    "        val = recommend_output(laki_dir,'Celana_pendek_cowok')\n",
    "        bw_l.append(val)\n",
    "        print(\"Here's your footwear recommendation! : \")\n",
    "        fw_l = []\n",
    "        val = recommend_output(base_dir,'Sneakers')\n",
    "        fw_l.append(val)\n",
    "        val = recommend_output(laki_dir,'Sandal_cowok')\n",
    "        fw_l.append(val)\n",
    "        data[\"upperwear\"] = uw_l\n",
    "        data[\"bottomwear\"] = bw_l\n",
    "        data[\"footwear\"] = fw_l\n",
    "        return data \n",
    "    elif gender == \"Perempuan\" and situasi == \"Nonformal\" and style_fashion != \"Formal\":\n",
    "        print(\"Here's your upperwear recommendation! : \")\n",
    "        uw_p = []\n",
    "        val = recommend_output(base_dir,'Jacket')\n",
    "        uw_p.append(val)\n",
    "        val = recommend_output(cewek_dir,'Kaos_Cewek')\n",
    "        uw_p.append(val)\n",
    "        val = recommend_output(cewek_dir,'Onepiece')\n",
    "        uw_p.append(val)\n",
    "        print(\"Here's your bottomwear recommendation! : \")\n",
    "        bw_p = []\n",
    "        val = recommend_output(cewek_dir,'Rok_nonformal')\n",
    "        bw_p.append(val)\n",
    "        val = recommend_output(cewek_dir,'Celana_panjang_cewek')\n",
    "        bw_p.append(val)\n",
    "        print(\"Here's your footwear recommendation! : \")\n",
    "        fw_p = []\n",
    "        val = recommend_output(base_dir,'Sneakers')\n",
    "        fw_p.append(val)\n",
    "        val = recommend_output(cewek_dir,'Sendal_cewek')\n",
    "        fw_p.append(val)\n",
    "        data[\"upperwear\"] = uw_p\n",
    "        data[\"bottomwear\"] = bw_p\n",
    "        data[\"footwear\"] = fw_p\n",
    "        return data \n",
    "    else:\n",
    "        print(\"Sorry! we don't have recommendation for you. Please wait for the updates!\")\n"
   ]
  },
  {
   "cell_type": "code",
   "execution_count": 27,
   "metadata": {},
   "outputs": [
    {
     "name": "stdout",
     "output_type": "stream",
     "text": [
      "Sorry! we don't have recommendation for you. Please wait for the updates!\n"
     ]
    }
   ],
   "source": [
    "recommend_user(\"Perempuan\",\"Panas\",\"Formal\",\"Young\")"
   ]
  },
  {
   "cell_type": "code",
   "execution_count": null,
   "metadata": {},
   "outputs": [],
   "source": []
  }
 ],
 "metadata": {
  "kernelspec": {
   "display_name": "tf",
   "language": "python",
   "name": "python3"
  },
  "language_info": {
   "codemirror_mode": {
    "name": "ipython",
    "version": 3
   },
   "file_extension": ".py",
   "mimetype": "text/x-python",
   "name": "python",
   "nbconvert_exporter": "python",
   "pygments_lexer": "ipython3",
   "version": "3.10.11"
  },
  "orig_nbformat": 4
 },
 "nbformat": 4,
 "nbformat_minor": 2
}
